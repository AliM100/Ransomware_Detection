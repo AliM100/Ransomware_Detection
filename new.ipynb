{
  "cells": [
    {
      "cell_type": "markdown",
      "metadata": {
        "id": "view-in-github",
        "colab_type": "text"
      },
      "source": [
        "<a href=\"https://colab.research.google.com/github/AliM100/Ransomware_Detection/blob/main/new.ipynb\" target=\"_parent\"><img src=\"https://colab.research.google.com/assets/colab-badge.svg\" alt=\"Open In Colab\"/></a>"
      ]
    },
    {
      "cell_type": "code",
      "execution_count": null,
      "metadata": {
        "id": "XXgZ5xpUHLK3"
      },
      "outputs": [],
      "source": [
        "from google.colab import drive\n",
        "drive.mount('/content/drive')"
      ]
    },
    {
      "cell_type": "code",
      "execution_count": null,
      "metadata": {
        "id": "EOda9uYjQm4R"
      },
      "outputs": [],
      "source": [
        "!git clone 'https://github.com/AliM100/Ransomware_Detection.git'\n",
        "!pip install patool"
      ]
    },
    {
      "cell_type": "code",
      "execution_count": 1,
      "metadata": {
        "id": "doyaiCPqHGYt"
      },
      "outputs": [],
      "source": [
        "import os\n",
        "import sys\n",
        "import os\n",
        "from math import log\n",
        "import numpy as np\n",
        "import scipy as sp\n",
        "from PIL import Image\n",
        "import matplotlib.pyplot as plt\n",
        "import cv2\n",
        "import shutil\n",
        "import pandas as pd\n",
        "import patoolib\n",
        "import seaborn as sns\n",
        "from sklearn import metrics\n",
        "from sklearn.metrics import average_precision_score\n",
        "import tensorflow\n",
        "from keras.applications import ResNet50\n",
        "from tensorflow.keras.callbacks import ReduceLROnPlateau\n",
        "from tensorflow.keras.models import load_model\n",
        "from keras.preprocessing.image import ImageDataGenerator\n",
        "from Ransomware_Detection.dataset import load_data,prepare_data\n",
        "# from dataset import load_data,prepare_data"
      ]
    },
    {
      "cell_type": "code",
      "execution_count": null,
      "metadata": {
        "id": "wGtwgKseHJif"
      },
      "outputs": [],
      "source": [
        "!unzip /content/drive/MyDrive/malimg_dataset.zip -d data"
      ]
    },
    {
      "cell_type": "code",
      "execution_count": null,
      "metadata": {
        "id": "3qO82vGtHn6_"
      },
      "outputs": [],
      "source": [
        "!cp -r \"/content/drive/MyDrive/Benign/\" \"/content/data/malimg_paper_dataset_imgs\""
      ]
    },
    {
      "cell_type": "code",
      "execution_count": 2,
      "metadata": {
        "id": "Tj4ox-SF1Prx"
      },
      "outputs": [],
      "source": [
        "class_index = {'Adialer.C': 0,\n",
        "                'Agent.FYI': 1,\n",
        "                'Allaple.A': 2,\n",
        "                'Allaple.L': 3,\n",
        "                'Alueron.gen!J': 4,\n",
        "                'Autorun.K': 5,\n",
        "                'C2LOP.P': 6,\n",
        "                'C2LOP.gen!g': 7,\n",
        "                'Dialplatform.B': 8,\n",
        "                'Dontovo.A': 9,\n",
        "                'Fakerean': 10,\n",
        "                'Instantaccess': 11,\n",
        "                'Lolyda.AA1': 12,\n",
        "                'Lolyda.AA2': 13,\n",
        "                'Lolyda.AA3': 14,\n",
        "                'Lolyda.AT': 15,\n",
        "                'Malex.gen!J': 16,\n",
        "                'Obfuscator.AD': 17,\n",
        "                'Rbot!gen': 18,\n",
        "                'Skintrim.N': 19,\n",
        "                'Swizzor.gen!E': 20,\n",
        "                'Swizzor.gen!I': 21,\n",
        "                'VB.AT': 22,\n",
        "                'Wintrim.BX': 23,\n",
        "                'Yuner.A': 24,\n",
        "                'Benign':25}"
      ]
    },
    {
      "cell_type": "code",
      "execution_count": 3,
      "metadata": {
        "id": "viGNy9pluoEh"
      },
      "outputs": [],
      "source": [
        "import tensorflow\n",
        "from tensorflow.keras.models import Sequential, Model\n",
        "from tensorflow.keras.layers import Dense, Dropout, Flatten,Input\n",
        "from tensorflow.keras.layers import Conv2D, MaxPooling2D\n",
        "from tensorflow.keras.layers import BatchNormalization\n",
        "from tensorflow.keras.callbacks import ModelCheckpoint\n",
        "from tensorflow.keras.metrics import AUC, Precision, Recall, Accuracy\n",
        "from tensorflow.keras.optimizers import Adam\n",
        "\n",
        "\n",
        "lr_schedule = tensorflow.keras.optimizers.schedules.ExponentialDecay(\n",
        "    initial_learning_rate=0.001,\n",
        "    decay_steps=10000,\n",
        "    decay_rate=0.9)\n",
        "\n",
        "def build_model(target_size_custom, loss='sparse_categorical_crossentropy', optimizer=Adam(learning_rate=lr_schedule), metrics=['accuracy'],num_classes=26):\n",
        "\n",
        "    model = Sequential()\n",
        "\n",
        "    model.add(Conv2D(64, kernel_size=(3, 3),\n",
        "                     activation='relu',\n",
        "                     input_shape=(target_size_custom[0],target_size_custom[1],3)))\n",
        "\n",
        "    model.add(MaxPooling2D(pool_size=(2, 2)))\n",
        "\n",
        "    model.add(Conv2D(32, kernel_size=(3, 3),\n",
        "                     activation='relu',\n",
        "                     input_shape=(target_size_custom[0]//2,target_size_custom[1]//2,3)))\n",
        "\n",
        "    model.add(MaxPooling2D(pool_size=(2, 2)))\n",
        "\n",
        "    model.add(Conv2D(16, kernel_size=(3, 3),\n",
        "                     activation='relu',\n",
        "                     input_shape=(target_size_custom[0]//4,target_size_custom[1]//4,3)))\n",
        "\n",
        "    model.add(MaxPooling2D(pool_size=(2, 2)))\n",
        "\n",
        "\n",
        "    # model.add(Conv2D(32, kernel_size=(3, 3),\n",
        "    #                  activation='relu',\n",
        "    #                  input_shape=(target_size_custom[0]//8,target_size_custom[1]//8,3)))\n",
        "\n",
        "    # model.add(MaxPooling2D(pool_size=(2, 2)))\n",
        "\n",
        "    model.add(Conv2D(16, (3, 3), activation='relu'))\n",
        "    model.add(MaxPooling2D(pool_size=(2, 2)))\n",
        "    model.add(Dropout(0.25))\n",
        "\n",
        "    model.add(Flatten())\n",
        "\n",
        "    model.add(Dense(128, activation='relu'))\n",
        "    model.add(Dropout(0.25))\n",
        "\n",
        "    model.add(Dense(50, activation='relu'))\n",
        "    model.add(Dropout(0.5))\n",
        "\n",
        "    model.add(Dense(num_classes, activation='softmax'))\n",
        "    model.compile(loss=loss, optimizer = optimizer, metrics=metrics)\n",
        "\n",
        "    return model"
      ]
    },
    {
      "cell_type": "code",
      "execution_count": 4,
      "metadata": {
        "id": "pxKqkHzeHGYu"
      },
      "outputs": [],
      "source": [
        "def train(train_gen,val_gen,target_size_custom,input_shape,save_checkpoints_path,batch_size, epochs):\n",
        "\n",
        "\n",
        "    model = build_model(target_size_custom)\n",
        "\n",
        "    rlrp = ReduceLROnPlateau(monitor='loss', factor=0.2, verbose=1, patience=5, min_lr=0.000001)\n",
        "\n",
        "    history=model.fit(train_gen, validation_data=val_gen, batch_size=batch_size, epochs=epochs, callbacks=[rlrp])\n",
        "\n",
        "\n",
        "    #saving model weights and history\n",
        "    model.save(f'{save_checkpoints_path}/model.h5')\n",
        "\n",
        "    hist_df = pd.DataFrame(history.history)\n",
        "\n",
        "    with open(f\"{save_checkpoints_path}/history.json\", \"w\") as outfile:\n",
        "        hist_df.to_json(outfile)\n",
        "\n",
        "\n",
        "    print(\"***Ploting***\")\n",
        "    epochs = [i for i in range(epochs)]\n",
        "    fig , ax = plt.subplots(1,2)\n",
        "    train_acc = history.history['accuracy']\n",
        "    train_loss = history.history['loss']\n",
        "    val_acc = history.history['val_accuracy']\n",
        "    val_loss = history.history['val_loss']\n",
        "\n",
        "\n",
        "    fig.set_size_inches(20,8)\n",
        "    ax[0].plot(epochs , train_loss , label = 'Training Loss')\n",
        "    ax[0].plot(epochs , val_loss , label = 'Testing Loss')\n",
        "    ax[0].set_title('Training & Testing Loss')\n",
        "    ax[0].legend()\n",
        "    ax[0].set_xlabel(\"Epochs\")\n",
        "\n",
        "    ax[1].plot(epochs , train_acc , label = 'Training Accuracy')\n",
        "    ax[1].plot(epochs , val_acc , label = 'Testing Accuracy')\n",
        "    ax[1].set_title('Training & Testing Accuracy')\n",
        "    ax[1].legend()\n",
        "    ax[1].set_xlabel(\"Epochs\")\n",
        "    plt.savefig('train_loss_accuracy.png')"
      ]
    },
    {
      "cell_type": "code",
      "execution_count": null,
      "metadata": {
        "colab": {
          "base_uri": "https://localhost:8080/"
        },
        "id": "e0qzB956uonp",
        "outputId": "a3c689e4-c6f4-4387-cd22-6c7ed4804601"
      },
      "outputs": [
        {
          "output_type": "stream",
          "name": "stdout",
          "text": [
            "Found 6212 validated image filenames belonging to 26 classes.\n",
            "Found 2054 validated image filenames belonging to 26 classes.\n",
            "Epoch 1/100\n",
            "222/222 [==============================] - 45s 159ms/step - loss: 2.0518 - accuracy: 0.4287 - val_loss: 0.8067 - val_accuracy: 0.7955 - lr: 9.9767e-04\n",
            "Epoch 2/100\n",
            "222/222 [==============================] - 33s 147ms/step - loss: 0.8018 - accuracy: 0.7748 - val_loss: 0.2853 - val_accuracy: 0.9182 - lr: 9.9534e-04\n",
            "Epoch 3/100\n",
            "222/222 [==============================] - 37s 165ms/step - loss: 0.4943 - accuracy: 0.8519 - val_loss: 0.2258 - val_accuracy: 0.9372 - lr: 9.9302e-04\n",
            "Epoch 4/100\n",
            "222/222 [==============================] - 32s 142ms/step - loss: 0.4268 - accuracy: 0.8701 - val_loss: 0.1679 - val_accuracy: 0.9547 - lr: 9.9070e-04\n",
            "Epoch 5/100\n",
            "222/222 [==============================] - 32s 143ms/step - loss: 0.3149 - accuracy: 0.9020 - val_loss: 0.1806 - val_accuracy: 0.9503 - lr: 9.8838e-04\n",
            "Epoch 6/100\n",
            "222/222 [==============================] - 35s 159ms/step - loss: 0.2755 - accuracy: 0.9118 - val_loss: 0.1238 - val_accuracy: 0.9596 - lr: 9.8607e-04\n",
            "Epoch 7/100\n",
            "222/222 [==============================] - 32s 145ms/step - loss: 0.2444 - accuracy: 0.9255 - val_loss: 0.1229 - val_accuracy: 0.9688 - lr: 9.8377e-04\n",
            "Epoch 8/100\n",
            "222/222 [==============================] - 36s 161ms/step - loss: 0.2386 - accuracy: 0.9271 - val_loss: 0.1197 - val_accuracy: 0.9645 - lr: 9.8147e-04\n",
            "Epoch 9/100\n",
            "222/222 [==============================] - 31s 142ms/step - loss: 0.2060 - accuracy: 0.9348 - val_loss: 0.1194 - val_accuracy: 0.9635 - lr: 9.7918e-04\n",
            "Epoch 10/100\n",
            "222/222 [==============================] - 32s 145ms/step - loss: 0.2156 - accuracy: 0.9325 - val_loss: 0.1015 - val_accuracy: 0.9659 - lr: 9.7689e-04\n",
            "Epoch 11/100\n",
            "222/222 [==============================] - 36s 160ms/step - loss: 0.1789 - accuracy: 0.9414 - val_loss: 0.1025 - val_accuracy: 0.9669 - lr: 9.7461e-04\n",
            "Epoch 12/100\n",
            "222/222 [==============================] - 32s 143ms/step - loss: 0.2105 - accuracy: 0.9316 - val_loss: 0.1213 - val_accuracy: 0.9625 - lr: 9.7233e-04\n",
            "Epoch 13/100\n",
            "222/222 [==============================] - 32s 143ms/step - loss: 0.1680 - accuracy: 0.9430 - val_loss: 0.0984 - val_accuracy: 0.9674 - lr: 9.7006e-04\n",
            "Epoch 14/100\n",
            "222/222 [==============================] - 30s 136ms/step - loss: 0.1500 - accuracy: 0.9482 - val_loss: 0.0926 - val_accuracy: 0.9718 - lr: 9.6779e-04\n",
            "Epoch 15/100\n",
            "222/222 [==============================] - 31s 138ms/step - loss: 0.1562 - accuracy: 0.9499 - val_loss: 0.0956 - val_accuracy: 0.9703 - lr: 9.6553e-04\n",
            "Epoch 16/100\n",
            "222/222 [==============================] - 30s 135ms/step - loss: 0.1609 - accuracy: 0.9474 - val_loss: 0.0920 - val_accuracy: 0.9688 - lr: 9.6328e-04\n",
            "Epoch 17/100\n",
            "222/222 [==============================] - 35s 159ms/step - loss: 0.1382 - accuracy: 0.9515 - val_loss: 0.1038 - val_accuracy: 0.9722 - lr: 9.6103e-04\n",
            "Epoch 18/100\n",
            "222/222 [==============================] - 30s 136ms/step - loss: 0.1398 - accuracy: 0.9501 - val_loss: 0.1229 - val_accuracy: 0.9620 - lr: 9.5878e-04\n",
            "Epoch 19/100\n",
            "222/222 [==============================] - 32s 144ms/step - loss: 0.1369 - accuracy: 0.9528 - val_loss: 0.0995 - val_accuracy: 0.9732 - lr: 9.5654e-04\n",
            "Epoch 20/100\n",
            "222/222 [==============================] - 31s 139ms/step - loss: 0.1263 - accuracy: 0.9564 - val_loss: 0.1070 - val_accuracy: 0.9703 - lr: 9.5431e-04\n",
            "Epoch 21/100\n",
            "222/222 [==============================] - 32s 143ms/step - loss: 0.1315 - accuracy: 0.9551 - val_loss: 0.1032 - val_accuracy: 0.9703 - lr: 9.5208e-04\n",
            "Epoch 22/100\n",
            "222/222 [==============================] - 31s 141ms/step - loss: 0.1216 - accuracy: 0.9590 - val_loss: 0.1027 - val_accuracy: 0.9708 - lr: 9.4985e-04\n",
            "Epoch 23/100\n",
            "222/222 [==============================] - 31s 139ms/step - loss: 0.1092 - accuracy: 0.9620 - val_loss: 0.1070 - val_accuracy: 0.9703 - lr: 9.4763e-04\n",
            "Epoch 24/100\n",
            "222/222 [==============================] - 30s 134ms/step - loss: 0.1484 - accuracy: 0.9522 - val_loss: 0.1044 - val_accuracy: 0.9722 - lr: 9.4542e-04\n",
            "Epoch 25/100\n",
            "222/222 [==============================] - 40s 180ms/step - loss: 0.1203 - accuracy: 0.9609 - val_loss: 0.1379 - val_accuracy: 0.9601 - lr: 9.4321e-04\n",
            "Epoch 26/100\n",
            "222/222 [==============================] - 41s 186ms/step - loss: 0.1305 - accuracy: 0.9573 - val_loss: 0.1038 - val_accuracy: 0.9718 - lr: 9.4101e-04\n",
            "Epoch 27/100\n",
            "168/222 [=====================>........] - ETA: 7s - loss: 0.1183 - accuracy: 0.9623"
          ]
        }
      ],
      "source": [
        "data_path=\"data\"\n",
        "malevis_data_path=\"malevis_train_val_300x300\"\n",
        "img_path=\"data/malimg_paper_dataset_imgs\"\n",
        "data_csvs=\"data/csvs\"\n",
        "save_checkpoints_path=\"data/checkpoint\"\n",
        "batch_size=28\n",
        "epochs = 100\n",
        "os.makedirs(save_checkpoints_path,exist_ok=True)\n",
        "os.makedirs(data_csvs,exist_ok=True)\n",
        "\n",
        "data_prepare=prepare_data(data_path,img_path,class_index)\n",
        "#combining MalImg and Malevis datasets\n",
        "# data_prepare.combine_datasets(malevis_data_path)\n",
        "if not os.path.exists(f\"{data_csvs}/train.csv\"):\n",
        "    data_prepare.create_csv_data()\n",
        "\n",
        "target_size_custom = (224, 224)\n",
        "input_shape=(224, 224, 3)\n",
        "\n",
        "dataloader=load_data(img_path,data_csvs,target_size_custom,batch_size)\n",
        "train_gen,val_gen=dataloader.train_data()\n",
        "\n",
        "classes = train_gen.class_indices\n",
        "with tensorflow.device('GPU'):\n",
        "  train_gen=train(train_gen,val_gen,target_size_custom,input_shape,save_checkpoints_path,batch_size, epochs)"
      ]
    },
    {
      "cell_type": "code",
      "execution_count": null,
      "metadata": {
        "id": "_pRi7FsMHGYv"
      },
      "outputs": [],
      "source": [
        "def test(test_gen,save_checkpoints_path):\n",
        "\n",
        "    model=load_model(f\"{save_checkpoints_path}/model.h5\")\n",
        "\n",
        "    y_pred=model.predict(test_gen)\n",
        "    y_test_predicted = np.argmax(np.array(y_pred),axis = 1)\n",
        "    return y_test_predicted"
      ]
    },
    {
      "cell_type": "code",
      "execution_count": null,
      "metadata": {
        "id": "elPnQszxHGYv"
      },
      "outputs": [],
      "source": [
        "test_gen=dataloader.test_data()\n",
        "y_test_predicted=test(test_gen,save_checkpoints_path)"
      ]
    },
    {
      "cell_type": "code",
      "execution_count": null,
      "metadata": {
        "id": "3kxnpXkDKHrN"
      },
      "outputs": [],
      "source": [
        "y_pred=[]\n",
        "for i in y_test_predicted:\n",
        "  for key,value in class_index.items():\n",
        "    if value==i:\n",
        "      y_pred.append(key)\n",
        "      break\n",
        "print(y_pred)"
      ]
    },
    {
      "cell_type": "code",
      "execution_count": null,
      "metadata": {
        "id": "fXuoVAWMEjAW"
      },
      "outputs": [],
      "source": [
        "def confusion_matrix(confusion_matrix, class_names, figsize = (10,7), fontsize=14):\n",
        "    df_cm = pd.DataFrame(\n",
        "        confusion_matrix, index=class_names, columns=class_names,\n",
        "    )\n",
        "    fig = plt.figure(figsize=figsize)\n",
        "    try:\n",
        "        heatmap = sns.heatmap(df_cm, annot=True, fmt=\"d\")\n",
        "    except ValueError:\n",
        "        raise ValueError(\"Confusion matrix values must be integers.\")\n",
        "    heatmap.yaxis.set_ticklabels(heatmap.yaxis.get_ticklabels(), rotation=0, ha='right', fontsize=fontsize)\n",
        "    heatmap.xaxis.set_ticklabels(heatmap.xaxis.get_ticklabels(), rotation=45, ha='right', fontsize=fontsize)\n",
        "    plt.ylabel('True label')\n",
        "    plt.xlabel('Predicted label')"
      ]
    },
    {
      "cell_type": "code",
      "execution_count": null,
      "metadata": {
        "id": "NrmVqxrPMUq6"
      },
      "outputs": [],
      "source": [
        "c_matrix = metrics.confusion_matrix(test_gen.classes, y_test_predicted)\n",
        "df_confusion = pd.crosstab(test_gen.classes, y_test_predicted)\n",
        "df_confusion.to_csv(os.path.join(data_path,\"confusion_matrix.csv\"))\n",
        "\n",
        "confusion_matrix(c_matrix, classes, figsize = (20,7), fontsize=14)"
      ]
    },
    {
      "cell_type": "code",
      "execution_count": null,
      "metadata": {
        "id": "DoGj--lVaW6Q"
      },
      "outputs": [],
      "source": [
        "accuracy=metrics.accuracy_score(test_gen.classes, y_test_predicted)\n",
        "print(\"accuracy\",accuracy)\n",
        "\n",
        "IoU=metrics.jaccard_score(test_gen.classes, y_test_predicted,average=\"micro\")\n",
        "f1=metrics.f1_score(test_gen.classes, y_test_predicted,average=\"micro\")\n",
        "print(\"micro IoU\",IoU)\n",
        "print(\"micro f1\",f1)\n",
        "\n",
        "IoU=metrics.jaccard_score(test_gen.classes, y_test_predicted,average=\"macro\")\n",
        "f1=metrics.f1_score(test_gen.classes, y_test_predicted,average=\"macro\")\n",
        "print(\"macro IoU\",IoU)\n",
        "print(\"macro f1\",f1)"
      ]
    },
    {
      "cell_type": "code",
      "execution_count": null,
      "metadata": {
        "id": "X5T2flBwack9"
      },
      "outputs": [],
      "source": [
        "report = metrics.classification_report(test_gen.classes, y_test_predicted, target_names=classes,  output_dict=True)\n",
        "df_report = pd.DataFrame(report).transpose()\n",
        "print(df_report)"
      ]
    },
    {
      "cell_type": "code",
      "execution_count": null,
      "metadata": {
        "id": "YzC86zixNY4v"
      },
      "outputs": [],
      "source": []
    }
  ],
  "metadata": {
    "accelerator": "GPU",
    "colab": {
      "gpuType": "T4",
      "provenance": [],
      "include_colab_link": true
    },
    "kernelspec": {
      "display_name": "Python 3",
      "name": "python3"
    },
    "language_info": {
      "codemirror_mode": {
        "name": "ipython",
        "version": 3
      },
      "file_extension": ".py",
      "mimetype": "text/x-python",
      "name": "python",
      "nbconvert_exporter": "python",
      "pygments_lexer": "ipython3",
      "version": "3.10.13"
    }
  },
  "nbformat": 4,
  "nbformat_minor": 0
}