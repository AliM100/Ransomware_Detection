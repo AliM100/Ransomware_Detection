{
  "cells": [
    {
      "cell_type": "code",
      "source": [
        "from google.colab import drive\n",
        "drive.mount('/content/drive')"
      ],
      "metadata": {
        "id": "XXgZ5xpUHLK3"
      },
      "execution_count": null,
      "outputs": []
    },
    {
      "cell_type": "code",
      "source": [
        "!unzip /content/drive/MyDrive/malimg_dataset.zip -d data"
      ],
      "metadata": {
        "id": "wGtwgKseHJif"
      },
      "execution_count": null,
      "outputs": []
    },
    {
      "cell_type": "code",
      "source": [
        "!cp -r \"/content/drive/MyDrive/Benign/\" \"/content/data/malimg_paper_dataset_imgs\""
      ],
      "metadata": {
        "id": "3qO82vGtHn6_"
      },
      "execution_count": null,
      "outputs": []
    },
    {
      "cell_type": "code",
      "execution_count": null,
      "metadata": {
        "id": "doyaiCPqHGYt"
      },
      "outputs": [],
      "source": [
        "import os\n",
        "import sys\n",
        "import os\n",
        "from math import log\n",
        "import numpy as np\n",
        "import scipy as sp\n",
        "from PIL import Image\n",
        "import matplotlib.pyplot as plt\n",
        "import cv2\n",
        "import pandas as pd\n",
        "import dataset\n",
        "from dataset import load_data,prepare_data\n",
        "from model import build_model\n",
        "import seaborn as sns\n",
        "from sklearn import metrics\n",
        "from sklearn.metrics import average_precision_score\n",
        "import tensorflow\n",
        "from keras.applications import ResNet50\n",
        "from tensorflow.keras.callbacks import ReduceLROnPlateau\n",
        "from tensorflow.keras.models import load_model"
      ]
    },
    {
      "cell_type": "code",
      "source": [
        "class_index = {'Adialer.C': 0,\n",
        "                'Agent.FYI': 1,\n",
        "                'Allaple.A': 2,\n",
        "                'Allaple.L': 3,\n",
        "                'Alueron.gen!J': 4,\n",
        "                'Autorun.K': 5,\n",
        "                'C2LOP.P': 6,\n",
        "                'C2LOP.gen!g': 7,\n",
        "                'Dialplatform.B': 8,\n",
        "                'Dontovo.A': 9,\n",
        "                'Fakerean': 10,\n",
        "                'Instantaccess': 11,\n",
        "                'Lolyda.AA1': 12,\n",
        "                'Lolyda.AA2': 13,\n",
        "                'Lolyda.AA3': 14,\n",
        "                'Lolyda.AT': 15,\n",
        "                'Malex.gen!J': 16,\n",
        "                'Obfuscator.AD': 17,\n",
        "                'Rbot!gen': 18,\n",
        "                'Skintrim.N': 19,\n",
        "                'Swizzor.gen!E': 20,\n",
        "                'Swizzor.gen!I': 21,\n",
        "                'VB.AT': 22,\n",
        "                'Wintrim.BX': 23,\n",
        "                'Yuner.A': 24,\n",
        "                'Benign':25}\n"
      ],
      "metadata": {
        "id": "G-vyhX_0LXzr"
      },
      "execution_count": null,
      "outputs": []
    },
    {
      "cell_type": "code",
      "execution_count": null,
      "metadata": {
        "id": "pxKqkHzeHGYu"
      },
      "outputs": [],
      "source": [
        "def train(train_gen,val_gen,target_size_custom,save_checkpoints_path,batch_size, epochs):\n",
        "\n",
        "    resnet = ResNet50(\n",
        "    weights='imagenet',\n",
        "    include_top=False,\n",
        "    input_shape=(224,224,3)\n",
        "    )\n",
        "\n",
        "    model=build_model(resnet)\n",
        "    # model = build_model(target_size_custom)\n",
        "\n",
        "    rlrp = ReduceLROnPlateau(monitor='loss', factor=0.2, verbose=1, patience=5, min_lr=0.000001)\n",
        "\n",
        "    history=model.fit(train_gen, validation_data=val_gen, batch_size=batch_size, epochs=epochs, callbacks=[rlrp])\n",
        "\n",
        "    #saving model weights and history\n",
        "    model.save(f'{save_checkpoints_path}/model.h5')\n",
        "\n",
        "    hist_df = pd.DataFrame(history.history)\n",
        "\n",
        "    with open(f\"{save_checkpoints_path}/history.json\", \"w\") as outfile:\n",
        "        hist_df.to_json(outfile)\n",
        "\n",
        "\n",
        "    print(\"***Ploting***\")\n",
        "    epochs = [i for i in range(epochs)]\n",
        "    fig , ax = plt.subplots(1,2)\n",
        "    train_acc = history.history['accuracy']\n",
        "    train_loss = history.history['loss']\n",
        "    val_acc = history.history['val_accuracy']\n",
        "    val_loss = history.history['val_loss']\n",
        "\n",
        "\n",
        "    fig.set_size_inches(20,8)\n",
        "    ax[0].plot(epochs , train_loss , label = 'Training Loss')\n",
        "    ax[0].plot(epochs , val_loss , label = 'Testing Loss')\n",
        "    ax[0].set_title('Training & Testing Loss')\n",
        "    ax[0].legend()\n",
        "    ax[0].set_xlabel(\"Epochs\")\n",
        "\n",
        "    ax[1].plot(epochs , train_acc , label = 'Training Accuracy')\n",
        "    ax[1].plot(epochs , val_acc , label = 'Testing Accuracy')\n",
        "    ax[1].set_title('Training & Testing Accuracy')\n",
        "    ax[1].legend()\n",
        "    ax[1].set_xlabel(\"Epochs\")\n",
        "    plt.savefig('train_loss_accuracy.png')"
      ]
    },
    {
      "cell_type": "code",
      "execution_count": null,
      "metadata": {
        "id": "_pRi7FsMHGYv"
      },
      "outputs": [],
      "source": [
        "def test(test_gen,save_checkpoints_path):\n",
        "\n",
        "    model=load_model(f\"{save_checkpoints_path}/model.h5\")\n",
        "\n",
        "    y_pred=model.predict(test_gen)\n",
        "    y_test_predicted = np.argmax(np.array(y_pred),axis = 1)\n",
        "    return y_test_predicted"
      ]
    },
    {
      "cell_type": "code",
      "source": [
        "def confusion_matrix(confusion_matrix, class_names, figsize = (10,7), fontsize=14):\n",
        "    df_cm = pd.DataFrame(\n",
        "        confusion_matrix, index=class_names, columns=class_names,\n",
        "    )\n",
        "    fig = plt.figure(figsize=figsize)\n",
        "    try:\n",
        "        heatmap = sns.heatmap(df_cm, annot=True, fmt=\"d\")\n",
        "    except ValueError:\n",
        "        raise ValueError(\"Confusion matrix values must be integers.\")\n",
        "    heatmap.yaxis.set_ticklabels(heatmap.yaxis.get_ticklabels(), rotation=0, ha='right', fontsize=fontsize)\n",
        "    heatmap.xaxis.set_ticklabels(heatmap.xaxis.get_ticklabels(), rotation=45, ha='right', fontsize=fontsize)\n",
        "    plt.ylabel('True label')\n",
        "    plt.xlabel('Predicted label')"
      ],
      "metadata": {
        "id": "fXuoVAWMEjAW"
      },
      "execution_count": null,
      "outputs": []
    },
    {
      "cell_type": "code",
      "execution_count": null,
      "metadata": {
        "id": "pusF2bfVHGYv"
      },
      "outputs": [],
      "source": [
        "gpus = tensorflow.config.list_physical_devices('GPU')\n",
        "print(gpus)"
      ]
    },
    {
      "cell_type": "code",
      "execution_count": null,
      "metadata": {
        "id": "KvHpDP5fHGYv",
        "colab": {
          "base_uri": "https://localhost:8080/"
        },
        "outputId": "f8185f55-988e-4ace-d6ef-8d4212365d69"
      },
      "outputs": [
        {
          "output_type": "stream",
          "name": "stdout",
          "text": [
            "118/296 [==========>...................] - ETA: 1:03 - loss: 0.5220 - accuracy: 0.8656"
          ]
        }
      ],
      "source": [
        "data_path=\"data\"\n",
        "img_path=\"data/malimg_paper_dataset_imgs\"\n",
        "data_csvs=\"data/csvs\"\n",
        "save_checkpoints_path=\"data/checkpoint\"\n",
        "batch_size=28\n",
        "epochs = 20\n",
        "os.makedirs(save_checkpoints_path,exist_ok=True)\n",
        "os.makedirs(data_csvs,exist_ok=True)\n",
        "\n",
        "data_prepare=prepare_data(data_path,img_path,class_index)\n",
        "\n",
        "if not os.path.exists(f\"{data_csvs}/train.csv\"):\n",
        "    data_prepare.create_csv_data()\n",
        "\n",
        "target_size_custom = (256, 256)\n",
        "\n",
        "\n",
        "dataloader=load_data(img_path,data_csvs,target_size_custom,batch_size)\n",
        "train_gen,val_gen=dataloader.train_data()\n",
        "classes = train_gen.class_indices\n",
        "with tensorflow.device('GPU'):\n",
        "  train_gen=train(train_gen,val_gen,target_size_custom,save_checkpoints_path,batch_size, epochs)\n",
        "\n"
      ]
    },
    {
      "cell_type": "code",
      "execution_count": null,
      "metadata": {
        "id": "elPnQszxHGYv"
      },
      "outputs": [],
      "source": [
        "test_gen=dataloader.test_data()\n",
        "y_test_predicted=test(test_gen,save_checkpoints_path)"
      ]
    },
    {
      "cell_type": "code",
      "source": [
        "y_pred=[]\n",
        "for i in y_test_predicted:\n",
        "  for key,value in class_index.items():\n",
        "    if value==i:\n",
        "      y_pred.append(key)\n",
        "      break\n",
        "print(y_pred)"
      ],
      "metadata": {
        "id": "3kxnpXkDKHrN"
      },
      "execution_count": null,
      "outputs": []
    },
    {
      "cell_type": "code",
      "source": [
        "c_matrix = metrics.confusion_matrix(test_gen.classes, y_test_predicted)\n",
        "df_confusion = pd.crosstab(test_gen.classes, y_test_predicted)\n",
        "df_confusion.to_csv(os.path.join(data_path,\"confusion_matrix.csv\"))\n",
        "\n",
        "confusion_matrix(c_matrix, classes, figsize = (20,7), fontsize=14)"
      ],
      "metadata": {
        "id": "NrmVqxrPMUq6"
      },
      "execution_count": null,
      "outputs": []
    },
    {
      "cell_type": "code",
      "source": [
        "accuracy=metrics.accuracy_score(test_gen.classes, y_test_predicted)\n",
        "print(\"accuracy\",accuracy)\n",
        "\n",
        "IoU=metrics.jaccard_score(test_gen.classes, y_test_predicted,average=\"micro\")\n",
        "f1=metrics.f1_score(test_gen.classes, y_test_predicted,average=\"micro\")\n",
        "print(\"micro IoU\",IoU)\n",
        "print(\"micro f1\",f1)\n",
        "\n",
        "IoU=metrics.jaccard_score(test_gen.classes, y_test_predicted,average=\"macro\")\n",
        "f1=metrics.f1_score(test_gen.classes, y_test_predicted,average=\"macro\")\n",
        "print(\"macro IoU\",IoU)\n",
        "print(\"macro f1\",f1)"
      ],
      "metadata": {
        "id": "DoGj--lVaW6Q"
      },
      "execution_count": null,
      "outputs": []
    },
    {
      "cell_type": "code",
      "source": [
        "report = metrics.classification_report(test_gen.classes, y_test_predicted, target_names=classes,  output_dict=True)\n",
        "df_report = pd.DataFrame(report).transpose()\n",
        "print(df_report)"
      ],
      "metadata": {
        "id": "X5T2flBwack9"
      },
      "execution_count": null,
      "outputs": []
    },
    {
      "cell_type": "code",
      "source": [],
      "metadata": {
        "id": "YzC86zixNY4v"
      },
      "execution_count": null,
      "outputs": []
    }
  ],
  "metadata": {
    "kernelspec": {
      "display_name": "Python 3",
      "name": "python3"
    },
    "language_info": {
      "codemirror_mode": {
        "name": "ipython",
        "version": 3
      },
      "file_extension": ".py",
      "mimetype": "text/x-python",
      "name": "python",
      "nbconvert_exporter": "python",
      "pygments_lexer": "ipython3",
      "version": "3.10.13"
    },
    "colab": {
      "provenance": [],
      "gpuType": "T4"
    },
    "accelerator": "GPU"
  },
  "nbformat": 4,
  "nbformat_minor": 0
}