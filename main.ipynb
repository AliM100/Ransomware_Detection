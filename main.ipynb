{
 "cells": [
  {
   "cell_type": "code",
   "execution_count": null,
   "metadata": {},
   "outputs": [],
   "source": [
    "import os\n",
    "import sys\n",
    "import os\n",
    "from math import log\n",
    "import numpy as np\n",
    "import scipy as sp\n",
    "from PIL import Image\n",
    "import matplotlib.pyplot as plt\n",
    "import cv2\n",
    "import pandas as pd\n",
    "import dataset \n",
    "from dataset import load_data\n",
    "from model import get_model\n",
    "import tensorflow\n",
    "from tensorflow.keras.callbacks import ReduceLROnPlateau\n",
    "from tensorflow.keras.models import load_model"
   ]
  },
  {
   "cell_type": "code",
   "execution_count": null,
   "metadata": {},
   "outputs": [],
   "source": [
    "def train(dataloader,target_size_custom,save_checkpoints_path,batch_size):\n",
    "    \n",
    "    train_gen,val_gen=dataloader.train_data()\n",
    "    with tensorflow.device('GPU'):\n",
    "        model = get_model(target_size_custom)\n",
    "        epochs = 10\n",
    "        rlrp = ReduceLROnPlateau(monitor='loss', factor=0.2, verbose=1, patience=5, min_lr=0.000001) #\n",
    "\n",
    "        history=model.fit(train_gen, validation_data=val_gen, batch_size=batch_size, epochs=epochs, callbacks=[rlrp])\n",
    "\n",
    "        #saving model weights and history\n",
    "        model.save(f'{save_checkpoints_path}/model.h5')\n",
    "        \n",
    "        hist_df = pd.DataFrame(history.history)\n",
    "\n",
    "        with open(f\"{save_checkpoints_path}/history.json\", \"w\") as outfile:\n",
    "            hist_df.to_json(outfile)\n"
   ]
  },
  {
   "cell_type": "code",
   "execution_count": null,
   "metadata": {},
   "outputs": [],
   "source": [
    "def test(dataloader,save_checkpoints_path):\n",
    "\n",
    "    test_gen=dataloader.test_data()\n",
    "   \n",
    "    model=load_model(f\"{save_checkpoints_path}/model.h5\")\n",
    "  \n",
    "    \n",
    "    pred=model.predict(test_gen)\n",
    "\n",
    "    print(pred)"
   ]
  },
  {
   "cell_type": "code",
   "execution_count": null,
   "metadata": {},
   "outputs": [],
   "source": [
    "data_path=\"data\"\n",
    "img_path=\"data/malimg_paper_dataset_imgs\"\n",
    "data_csvs=\"data/csvs\"\n",
    "save_checkpoints_path=\"data/checkpoint\"\n",
    "batch_size=28\n",
    "os.makedirs(save_checkpoints_path,exist_ok=True)\n",
    "os.makedirs(data_csvs,exist_ok=True)\n",
    "\n",
    "if not os.path.exists(f\"{data_csvs}/train.csv\"):\n",
    "    dataset.create_csv_data(data_path,img_path)\n",
    "\n",
    "target_size_custom = (256, 256)\n",
    "\n",
    "\n",
    "dataloader=load_data(img_path,data_csvs,target_size_custom,batch_size)\n",
    "\n",
    "train(dataloader,target_size_custom,save_checkpoints_path,batch_size)\n",
    "\n",
    "# test(dataloader,target_size_custom)"
   ]
  }
 ],
 "metadata": {
  "language_info": {
   "name": "python"
  }
 },
 "nbformat": 4,
 "nbformat_minor": 2
}
